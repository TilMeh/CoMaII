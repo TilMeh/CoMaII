{
 "cells": [
  {
   "cell_type": "markdown",
   "metadata": {},
   "source": []
  },
  {
   "cell_type": "code",
   "execution_count": 1,
   "metadata": {},
   "outputs": [],
   "source": [
    "f = @(x) sin(x);\n",
    "x = linspace(0, 2*pi, 5);\n",
    "n = length(x);"
   ]
  },
  {
   "cell_type": "code",
   "execution_count": 2,
   "metadata": {},
   "outputs": [
    {
     "name": "stdout",
     "output_type": "stream",
     "text": [
      "\n",
      "A =\n",
      "\n",
      "         0         0         0         0         0\n",
      "    1.0000    0.6366         0         0         0\n",
      "    0.0000   -0.6366   -0.4053         0         0\n",
      "   -1.0000   -0.6366   -0.0000    0.0860         0\n",
      "   -0.0000    0.6366    0.4053    0.0860    0.0000\n",
      "\n",
      "\n",
      "ans =\n",
      "\n",
      "         0         0         0         0         0\n",
      "    1.0000    0.6366         0         0         0\n",
      "    0.0000   -0.6366   -0.4053         0         0\n",
      "   -1.0000   -0.6366   -0.0000    0.0860         0\n",
      "   -0.0000    0.6366    0.4053    0.0860    0.0000\n",
      "\n"
     ]
    }
   ],
   "source": [
    "divided_differences(f,x)"
   ]
  },
  {
   "cell_type": "markdown",
   "metadata": {},
   "source": [
    "3.a"
   ]
  },
  {
   "cell_type": "code",
   "execution_count": 10,
   "metadata": {},
   "outputs": [
    {
     "name": "stdout",
     "output_type": "stream",
     "text": [
      "\n",
      "x =\n",
      "\n",
      "   -3.1416   -1.5708    1.5708    3.1416\n",
      "\n"
     ]
    }
   ],
   "source": [
    "x"
   ]
  },
  {
   "cell_type": "code",
   "execution_count": 11,
   "metadata": {},
   "outputs": [
    {
     "name": "stdout",
     "output_type": "stream",
     "text": [
      "\n",
      "m =\n",
      "\n",
      "     0     0     0     0\n",
      "     0     0     0     0\n",
      "     0     0     0     0\n",
      "     0     0     0     0\n",
      "\n"
     ]
    }
   ],
   "source": [
    "m = zeros(n,n)"
   ]
  },
  {
   "cell_type": "code",
   "execution_count": 12,
   "metadata": {
    "scrolled": true
   },
   "outputs": [
    {
     "name": "stdout",
     "output_type": "stream",
     "text": [
      "\n",
      "m =\n",
      "\n",
      "   1.0e-15 *\n",
      "\n",
      "   -0.1225         0         0         0\n",
      "         0         0         0         0\n",
      "         0         0         0         0\n",
      "         0         0         0         0\n",
      "\n",
      "\n",
      "m =\n",
      "\n",
      "   -0.0000         0         0         0\n",
      "   -1.0000         0         0         0\n",
      "         0         0         0         0\n",
      "         0         0         0         0\n",
      "\n",
      "\n",
      "m =\n",
      "\n",
      "   -0.0000         0         0         0\n",
      "   -1.0000         0         0         0\n",
      "    1.0000         0         0         0\n",
      "         0         0         0         0\n",
      "\n",
      "\n",
      "m =\n",
      "\n",
      "   -0.0000         0         0         0\n",
      "   -1.0000         0         0         0\n",
      "    1.0000         0         0         0\n",
      "    0.0000         0         0         0\n",
      "\n"
     ]
    }
   ],
   "source": [
    "% j = spalte i = zeile\n",
    "%erste spalte\n",
    "for j = 1:n\n",
    "    m(j,1) = f(x(j))\n",
    "end"
   ]
  },
  {
   "cell_type": "code",
   "execution_count": 13,
   "metadata": {},
   "outputs": [
    {
     "name": "stdout",
     "output_type": "stream",
     "text": [
      "\n",
      "i =\n",
      "\n",
      "     2\n",
      "\n",
      "\n",
      "j =\n",
      "\n",
      "     2\n",
      "\n",
      "\n",
      "k =\n",
      "\n",
      "     0\n",
      "\n",
      "\n",
      "m =\n",
      "\n",
      "   -0.0000         0         0         0\n",
      "   -1.0000   -0.6366         0         0\n",
      "    1.0000         0         0         0\n",
      "    0.0000         0         0         0\n",
      "\n",
      "\n",
      "i =\n",
      "\n",
      "     3\n",
      "\n",
      "\n",
      "j =\n",
      "\n",
      "     2\n",
      "\n",
      "\n",
      "k =\n",
      "\n",
      "     1\n",
      "\n",
      "\n",
      "m =\n",
      "\n",
      "   -0.0000         0         0         0\n",
      "   -1.0000   -0.6366         0         0\n",
      "    1.0000    0.6366         0         0\n",
      "    0.0000         0         0         0\n",
      "\n",
      "\n",
      "i =\n",
      "\n",
      "     3\n",
      "\n",
      "\n",
      "j =\n",
      "\n",
      "     3\n",
      "\n",
      "\n",
      "k =\n",
      "\n",
      "     0\n",
      "\n",
      "\n",
      "m =\n",
      "\n",
      "   -0.0000         0         0         0\n",
      "   -1.0000   -0.6366         0         0\n",
      "    1.0000    0.6366    0.2702         0\n",
      "    0.0000         0         0         0\n",
      "\n",
      "\n",
      "i =\n",
      "\n",
      "     4\n",
      "\n",
      "\n",
      "j =\n",
      "\n",
      "     2\n",
      "\n",
      "\n",
      "k =\n",
      "\n",
      "     2\n",
      "\n",
      "\n",
      "m =\n",
      "\n",
      "   -0.0000         0         0         0\n",
      "   -1.0000   -0.6366         0         0\n",
      "    1.0000    0.6366    0.2702         0\n",
      "    0.0000   -0.6366         0         0\n",
      "\n",
      "\n",
      "i =\n",
      "\n",
      "     4\n",
      "\n",
      "\n",
      "j =\n",
      "\n",
      "     3\n",
      "\n",
      "\n",
      "k =\n",
      "\n",
      "     1\n",
      "\n",
      "\n",
      "m =\n",
      "\n",
      "   -0.0000         0         0         0\n",
      "   -1.0000   -0.6366         0         0\n",
      "    1.0000    0.6366    0.2702         0\n",
      "    0.0000   -0.6366   -0.2702         0\n",
      "\n",
      "\n",
      "i =\n",
      "\n",
      "     4\n",
      "\n",
      "\n",
      "j =\n",
      "\n",
      "     4\n",
      "\n",
      "\n",
      "k =\n",
      "\n",
      "     0\n",
      "\n",
      "\n",
      "m =\n",
      "\n",
      "   -0.0000         0         0         0\n",
      "   -1.0000   -0.6366         0         0\n",
      "    1.0000    0.6366    0.2702         0\n",
      "    0.0000   -0.6366   -0.2702   -0.0860\n",
      "\n"
     ]
    }
   ],
   "source": [
    "% j = spalte i = zeile\n",
    "for i = 2:n\n",
    "    for j = 2:i\n",
    "        i\n",
    "        j\n",
    "        k = abs(i-j)\n",
    "        m(i,j) = (m(i,j-1) - m(i-1,j-1)) / (x(i) - x(k+1))\n",
    "    end\n",
    "end"
   ]
  },
  {
   "cell_type": "code",
   "execution_count": 14,
   "metadata": {},
   "outputs": [
    {
     "name": "stdout",
     "output_type": "stream",
     "text": [
      "\n",
      "m =\n",
      "\n",
      "   -0.0000         0         0         0\n",
      "   -1.0000   -0.6366         0         0\n",
      "    1.0000    0.6366    0.2702         0\n",
      "    0.0000   -0.6366   -0.2702   -0.0860\n",
      "\n"
     ]
    }
   ],
   "source": [
    "m"
   ]
  },
  {
   "cell_type": "markdown",
   "metadata": {},
   "source": [
    "3b"
   ]
  },
  {
   "cell_type": "code",
   "execution_count": 14,
   "metadata": {},
   "outputs": [
    {
     "name": "stdout",
     "output_type": "stream",
     "text": [
      "\n",
      "a =\n",
      "\n",
      "         0   -0.6366    0.2702   -0.0860\n",
      "\n",
      "\n",
      "x =\n",
      "\n",
      "   -3.1416   -1.5708    1.5708    3.1416\n",
      "\n",
      "\n",
      "y =\n",
      "\n",
      "    4.7124\n",
      "\n"
     ]
    }
   ],
   "source": [
    "a = [ 0 -2/pi 8/(3*pi^2) -8/(3*pi^3)]\n",
    "x = [ -pi -pi/2 pi/2 pi]\n",
    "y = 3*pi/2"
   ]
  },
  {
   "cell_type": "code",
   "execution_count": null,
   "metadata": {},
   "outputs": [],
   "source": [
    "function y = horner(x,p)\n",
    "%\n",
    "% Auswertung eines Polynom an einer Stelle mithilfe Horner Schema\n",
    "%\n",
    "    [one,coeffs] = size(p);\n",
    "    if coeffs == 1\n",
    "\tresult = p(coeffs)\n",
    "    else\n",
    "    \tresult = p(1) + x*hornerschema(x,p(2:coeffs));\n",
    "    end\n",
    "\n",
    "    y = result\n",
    "end\n"
   ]
  },
  {
   "cell_type": "code",
   "execution_count": 15,
   "metadata": {},
   "outputs": [
    {
     "name": "stderr",
     "output_type": "stream",
     "text": [
      "\u001b[0;31mError using eval\n",
      "Undefined function 'horner_eval' for input arguments of type 'double'.\n",
      "\n",
      "\u001b[0m"
     ]
    }
   ],
   "source": [
    "horner_eval(a,x,y)"
   ]
  },
  {
   "cell_type": "code",
   "execution_count": 3,
   "metadata": {},
   "outputs": [],
   "source": [
    "% 3c"
   ]
  },
  {
   "cell_type": "code",
   "execution_count": 4,
   "metadata": {},
   "outputs": [],
   "source": [
    "f = @(x) cos(x);\n",
    "x = linspace(0, 2*pi, 5);"
   ]
  },
  {
   "cell_type": "code",
   "execution_count": 5,
   "metadata": {},
   "outputs": [
    {
     "name": "stdout",
     "output_type": "stream",
     "text": [
      "\n",
      "A =\n",
      "\n",
      "    1.0000         0         0         0         0\n",
      "    0.0000   -0.6366         0         0         0\n",
      "   -1.0000   -0.6366   -0.0000         0         0\n",
      "   -0.0000    0.6366    0.4053    0.0860         0\n",
      "    1.0000    0.6366    0.0000   -0.0860   -0.0274\n",
      "\n",
      "\n",
      "a =\n",
      "\n",
      "    1.0000         0         0         0         0\n",
      "    0.0000   -0.6366         0         0         0\n",
      "   -1.0000   -0.6366   -0.0000         0         0\n",
      "   -0.0000    0.6366    0.4053    0.0860         0\n",
      "    1.0000    0.6366    0.0000   -0.0860   -0.0274\n",
      "\n"
     ]
    }
   ],
   "source": [
    "a = divided_differences(f,x)"
   ]
  },
  {
   "cell_type": "code",
   "execution_count": null,
   "metadata": {},
   "outputs": [],
   "source": []
  }
 ],
 "metadata": {
  "kernelspec": {
   "display_name": "Matlab",
   "language": "matlab",
   "name": "matlab"
  },
  "language_info": {
   "codemirror_mode": "octave",
   "file_extension": ".m",
   "help_links": [
    {
     "text": "MetaKernel Magics",
     "url": "https://github.com/calysto/metakernel/blob/master/metakernel/magics/README.md"
    }
   ],
   "mimetype": "text/x-octave",
   "name": "matlab",
   "version": "0.15.0"
  }
 },
 "nbformat": 4,
 "nbformat_minor": 2
}
